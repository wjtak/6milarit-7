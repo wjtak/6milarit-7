{
 "cells": [
  {
   "cell_type": "markdown",
   "metadata": {},
   "source": [
    "## Tutoriel : interagir avec le système de stockage S3 du SSP Cloud (MinIO)"
   ]
  },
  {
   "cell_type": "code",
   "execution_count": 17,
   "metadata": {},
   "outputs": [],
   "source": [
    "import os\n",
    "\n",
    "import pandas as pd\n",
    "import s3fs\n",
    "import zipfile"
   ]
  },
  {
   "cell_type": "markdown",
   "metadata": {},
   "source": [
    "### Récupérer les données d'un challenge"
   ]
  },
  {
   "cell_type": "code",
   "execution_count": 18,
   "metadata": {},
   "outputs": [],
   "source": [
    "# Create filesystem object\n",
    "S3_ENDPOINT_URL = \"https://\" + os.environ[\"AWS_S3_ENDPOINT\"]\n",
    "fs = s3fs.S3FileSystem(client_kwargs={'endpoint_url': S3_ENDPOINT_URL})"
   ]
  },
  {
   "cell_type": "code",
   "execution_count": 19,
   "metadata": {},
   "outputs": [
    {
     "data": {
      "text/plain": [
       "['gvimont/diffusion/hackathon-minarm-2024/AIVSAI',\n",
       " 'gvimont/diffusion/hackathon-minarm-2024/Acoustique',\n",
       " 'gvimont/diffusion/hackathon-minarm-2024/Similarité']"
      ]
     },
     "execution_count": 19,
     "metadata": {},
     "output_type": "execute_result"
    }
   ],
   "source": [
    "# Lister les challenges\n",
    "fs.ls(\"gvimont/diffusion/hackathon-minarm-2024\")"
   ]
  },
  {
   "cell_type": "code",
   "execution_count": 20,
   "metadata": {},
   "outputs": [
    {
     "data": {
      "text/plain": [
       "['gvimont/diffusion/hackathon-minarm-2024/Similarité/.keep',\n",
       " 'gvimont/diffusion/hackathon-minarm-2024/Similarité/stanford0-car-dataset-by-classes-folder.zip']"
      ]
     },
     "execution_count": 20,
     "metadata": {},
     "output_type": "execute_result"
    }
   ],
   "source": [
    "# Lister les fichiers d'un challenge\n",
    "fs.ls(\"gvimont/diffusion/hackathon-minarm-2024/Similarité\")"
   ]
  },
  {
   "cell_type": "code",
   "execution_count": 21,
   "metadata": {},
   "outputs": [
    {
     "data": {
      "text/plain": [
       "[None]"
      ]
     },
     "execution_count": 21,
     "metadata": {},
     "output_type": "execute_result"
    }
   ],
   "source": [
    "# Télécharger les données dans le service\n",
    "PATH_IN = 'gvimont/diffusion/hackathon-minarm-2024/Similarité/stanford0-car-dataset-by-classes-folder.zip'\n",
    "fs.download(PATH_IN, 'data/stanford0-car-dataset-by-classes-folder.zip')"
   ]
  },
  {
   "cell_type": "code",
   "execution_count": 22,
   "metadata": {},
   "outputs": [],
   "source": [
    "# Décompresser les données\n",
    "with zipfile.ZipFile(\"data/stanford0-car-dataset-by-classes-folder.zip\",\"r\") as zip_file:\n",
    "    zip_file.extractall(\"data/\")"
   ]
  },
  {
   "cell_type": "markdown",
   "metadata": {},
   "source": [
    "NB : les données peuvent être également téléchargées directement si besoin, pour être utilisées hors du SSP CLoud.\n",
    "Exemple pour le fichier ci-dessus (même format de lien pour les autres challenges) : \n",
    "\n",
    "http://minio.lab.sspcloud.fr/gvimont/diffusion/hackathon-minarm-2024/AIVSAI/HC3.zip"
   ]
  },
  {
   "cell_type": "markdown",
   "metadata": {},
   "source": [
    "### Exporter des données"
   ]
  },
  {
   "cell_type": "code",
   "execution_count": null,
   "metadata": {},
   "outputs": [],
   "source": [
    "import pandas as pd\n",
    "df = pd.read.('./data/HC3/medicine.jsonl', lines=True)\n"
   ]
  },
  {
   "cell_type": "code",
   "execution_count": 10,
   "metadata": {},
   "outputs": [
    {
     "data": {
      "text/html": [
       "<div>\n",
       "<style scoped>\n",
       "    .dataframe tbody tr th:only-of-type {\n",
       "        vertical-align: middle;\n",
       "    }\n",
       "\n",
       "    .dataframe tbody tr th {\n",
       "        vertical-align: top;\n",
       "    }\n",
       "\n",
       "    .dataframe thead th {\n",
       "        text-align: right;\n",
       "    }\n",
       "</style>\n",
       "<table border=\"1\" class=\"dataframe\">\n",
       "  <thead>\n",
       "    <tr style=\"text-align: right;\">\n",
       "      <th></th>\n",
       "      <th>Imagefile</th>\n",
       "      <th>Bounding_boxe1</th>\n",
       "      <th>Bounding_boxe2</th>\n",
       "      <th>Bounding_boxe3</th>\n",
       "      <th>Bounding_boxe4</th>\n",
       "      <th>class number</th>\n",
       "    </tr>\n",
       "  </thead>\n",
       "  <tbody>\n",
       "    <tr>\n",
       "      <th>0</th>\n",
       "      <td>00001.jpg</td>\n",
       "      <td>39</td>\n",
       "      <td>116</td>\n",
       "      <td>569</td>\n",
       "      <td>375</td>\n",
       "      <td>14</td>\n",
       "    </tr>\n",
       "    <tr>\n",
       "      <th>1</th>\n",
       "      <td>00002.jpg</td>\n",
       "      <td>36</td>\n",
       "      <td>116</td>\n",
       "      <td>868</td>\n",
       "      <td>587</td>\n",
       "      <td>3</td>\n",
       "    </tr>\n",
       "    <tr>\n",
       "      <th>2</th>\n",
       "      <td>00003.jpg</td>\n",
       "      <td>85</td>\n",
       "      <td>109</td>\n",
       "      <td>601</td>\n",
       "      <td>381</td>\n",
       "      <td>91</td>\n",
       "    </tr>\n",
       "    <tr>\n",
       "      <th>3</th>\n",
       "      <td>00004.jpg</td>\n",
       "      <td>621</td>\n",
       "      <td>393</td>\n",
       "      <td>1484</td>\n",
       "      <td>1096</td>\n",
       "      <td>134</td>\n",
       "    </tr>\n",
       "    <tr>\n",
       "      <th>4</th>\n",
       "      <td>00005.jpg</td>\n",
       "      <td>14</td>\n",
       "      <td>36</td>\n",
       "      <td>133</td>\n",
       "      <td>99</td>\n",
       "      <td>106</td>\n",
       "    </tr>\n",
       "  </tbody>\n",
       "</table>\n",
       "</div>"
      ],
      "text/plain": [
       "   Imagefile  Bounding_boxe1  Bounding_boxe2  Bounding_boxe3  Bounding_boxe4  \\\n",
       "0  00001.jpg              39             116             569             375   \n",
       "1  00002.jpg              36             116             868             587   \n",
       "2  00003.jpg              85             109             601             381   \n",
       "3  00004.jpg             621             393            1484            1096   \n",
       "4  00005.jpg              14              36             133              99   \n",
       "\n",
       "   class number  \n",
       "0            14  \n",
       "1             3  \n",
       "2            91  \n",
       "3           134  \n",
       "4           106  "
      ]
     },
     "execution_count": 10,
     "metadata": {},
     "output_type": "execute_result"
    }
   ],
   "source": [
    "import pandas as pd\n",
    "\n",
    "df_train = pd.read_csv(r\"./data/anno_train.csv\", header=None)\n",
    "df_test = pd.read_csv(r\"./data/anno_test.csv\", header=None)\n",
    "\n",
    "# Ajouter des en-têtes au DataFrame\n",
    "headers = ['Imagefile', 'Bounding_boxe1','Bounding_boxe2' ,'Bounding_boxe3','Bounding_boxe4','class number']\n",
    "df_train.columns = headers\n",
    "df_test.columns = headers\n",
    "\n",
    "\n",
    "\n",
    "df_train.head()\n",
    "#df_test\n"
   ]
  },
  {
   "cell_type": "code",
   "execution_count": 11,
   "metadata": {},
   "outputs": [
    {
     "data": {
      "text/plain": [
       "Imagefile         0\n",
       "Bounding_boxe1    0\n",
       "Bounding_boxe2    0\n",
       "Bounding_boxe3    0\n",
       "Bounding_boxe4    0\n",
       "class number      0\n",
       "dtype: int64"
      ]
     },
     "execution_count": 11,
     "metadata": {},
     "output_type": "execute_result"
    }
   ],
   "source": [
    "df_train.isnull().sum()\n"
   ]
  },
  {
   "cell_type": "code",
   "execution_count": null,
   "metadata": {},
   "outputs": [],
   "source": [
    "import tensorflow as tf\n",
    "from tensorflow.keras.layers import Input, Dense, Flatten, Conv2D, MaxPooling2D, Dropout\n",
    "from tensorflow.keras.models import Model\n",
    "\n",
    "# Paramètres du modèle\n",
    "input_shape = (224, 224, 3)  # Taille des images d'entrée\n",
    "num_classes = 195  # Nombre de classes\n",
    "\n",
    "# Modèle ResNet18\n",
    "inputs = Input(shape=input_shape)\n",
    "\n",
    "x = Conv2D(64, (7, 7), strides=(2, 2), activation='relu', padding='same')(inputs)\n",
    "x = MaxPooling2D((3, 3), strides=(2, 2))(x)\n",
    "\n",
    "# Bloc ResNet 1\n",
    "x = Conv2D(64, (3, 3), activation='relu', padding='same')(x)\n",
    "x = Conv2D(64, (3, 3), activation='relu', padding='same')(x)\n",
    "x_shortcut = x\n",
    "\n",
    "x = Conv2D(128, (3, 3), strides=(2, 2), activation='relu', padding='same')(x)\n",
    "x = Conv2D(128, (3, 3), activation='relu', padding='same')(x)\n",
    "\n",
    "# Ajouter le raccourci\n",
    "x = tf.keras.layers.add([x, x_shortcut])\n",
    "\n",
    "# Blocs ResNet restants\n",
    "for i in range(2):\n",
    "    x = Conv2D(128, (3, 3), activation='relu', padding='same')(x)\n",
    "    x = Conv2D(128, (3, 3), activation='relu', padding='same')(x)\n",
    "    x_shortcut = x\n",
    "\n",
    "    x = Conv2D(256, (3, 3), strides=(2, 2), activation='relu', padding='same')(x)\n",
    "    x = Conv2D(256, (3, 3), activation='relu', padding='same')(x)\n",
    "\n",
    "    # Ajouter le raccourci\n",
    "    x = tf.keras.layers.add([x, x_shortcut])\n",
    "\n",
    "# Couche de sortie\n",
    "x = Flatten()(x)\n",
    "x = Dense(256, activation='relu')(x)\n",
    "outputs = Dense(num_classes, activation='softmax')(x)\n",
    "\n",
    "# Modèle\n",
    "model = Model(inputs=inputs, outputs=outputs)\n",
    "\n",
    "# Compilation du modèle\n",
    "model.compile(loss='categorical_crossentropy', optimizer='adam', metrics=['accuracy'])\n"
   ]
  },
  {
   "cell_type": "code",
   "execution_count": null,
   "metadata": {},
   "outputs": [],
   "source": [
    "import numpy as np\n",
    "from tensorflow.keras.models import load_model\n",
    "\n",
    "# Charger le modèle ResNet18\n",
    "model = load_model('model.h5')\n",
    "\n",
    "# Charger l'image à expliquer\n",
    "image = np.load('image.npy')\n",
    "\n",
    "# Prédire la classe de l'image\n",
    "prediction = model.predict(image[np.newaxis, ...])\n",
    "predicted_class = np.argmax(prediction)\n",
    "\n",
    "# Générer la carte Grad-CAM\n",
    "with tf.GradientTape() as tape:\n",
    "    tape.watch(image)\n",
    "    outputs = model(image[np.newaxis, ...])\n",
    "    output = outputs[:, predicted_class]\n",
    "\n",
    "grads = tape.gradient(output, image)[0]\n",
    "grads = np.reshape(grads, (image.shape[0], image.shape[1], 3))\n",
    "\n",
    "# Normaliser la carte Grad-CAM\n",
    "grads_norm = (grads - np.min(grads)) / (np.max(grads) - np.min(grads))\n",
    "\n",
    "# Superposer la carte Grad-CAM sur l'image d'entrée\n",
    "cam = np.repeat(grads_norm, 3, axis=2) * 0.5 + image * 0.5\n",
    "\n",
    "# Afficher la carte Grad-CAM\n",
    "import matplotlib.pyplot as plt\n",
    "plt.imshow(cam)\n",
    "plt.show()\n"
   ]
  },
  {
   "cell_type": "code",
   "execution_count": null,
   "metadata": {},
   "outputs": [],
   "source": [
    "import lime\n",
    "import lime.lime_tabular\n",
    "from lime.lime_tabular import LimeTabularExplainer\n",
    "\n",
    "# Assuming you have your loaded ResNet18 model (replace with your loading logic)\n",
    "model = ...  # Your loaded ResNet18 model\n",
    "\n",
    "# Assuming you have your preprocessed data as a pandas DataFrame (replace with yours)\n",
    "data = pd.DataFrame(...)  # Your data with features and target variable\n",
    "\n",
    "# Extract features and target variable from the DataFrame\n",
    "features = data.drop('target_column_name', axis=1).columns.tolist()\n",
    "target_variable = 'target_column_name'\n",
    "\n",
    "# Create a LIME explainer for your data and features\n",
    "explainer = LimeTabularExplainer(\n",
    "    data=data[features].values,\n",
    "    mode=\"classification\",\n",
    "    class_names=data[target_variable].unique(),\n",
    "    feature_names=features\n",
    ")\n",
    "\n",
    "# Function to predict with your model (replace with your prediction logic)\n",
    "def predict_fn(x):\n",
    "    return model.predict(x)[0]\n",
    "\n",
    "# Explanation example: get an explanation for a specific data point (replace with your index)\n",
    "instance_index = 10  # Choose the data point index you want to explain\n",
    "explanation = explainer.explain_instance(\n",
    "    data.iloc[instance_index][features].values.reshape(1, -1),\n",
    "    predict_fn,\n",
    "    num_features=5  # Number of features to show in explanation\n",
    ")\n",
    "\n",
    "# Print the explanation\n",
    "print(explanation.as_text())\n"
   ]
  },
  {
   "cell_type": "code",
   "execution_count": 4,
   "metadata": {},
   "outputs": [],
   "source": [
    "import matplotlib.pyplot as plt\n",
    "import numpy as np\n",
    "\n",
    "import torch\n",
    "import torch.nn as nn\n",
    "import torch.optim as optim\n",
    "import torchvision\n",
    "import torchvision.models as models\n",
    "import torchvision.transforms as transforms\n",
    "\n",
    "import time\n",
    "import os\n",
    "import PIL.Image as Image\n",
    "from IPython.display import display\n",
    "\n",
    "#device = torch.device(\"cuda:0\" if torch.cuda.is_available() else \"cpu\")\n",
    "#print(device)\n",
    "#print(torch.cuda.get_device_name(device))"
   ]
  },
  {
   "cell_type": "code",
   "execution_count": 19,
   "metadata": {},
   "outputs": [],
   "source": [
    "# Export vers un bucket personnel\n",
    "PATH_OUT = 'avouacr/diffusion/projet-mongroupe-hackathon/medicine.csv'\n",
    "\n",
    "with fs.open(PATH_OUT, 'w') as file_out:\n",
    "    df.to_csv(file_out, index=False)"
   ]
  },
  {
   "cell_type": "code",
   "execution_count": 20,
   "metadata": {},
   "outputs": [
    {
     "data": {
      "text/plain": [
       "['avouacr/diffusion/projet-mongroupe-hackathon/medicine.csv']"
      ]
     },
     "execution_count": 20,
     "metadata": {},
     "output_type": "execute_result"
    }
   ],
   "source": [
    "# NB : le dossier 'diffusion' permet un accès en lecture à tous les membres du groupe !\n",
    "# Tous les membres peuvent donc le voir et l'utiliser dans un service\n",
    "fs.ls(\"avouacr/diffusion/projet-mongroupe-hackathon\")"
   ]
  },
  {
   "cell_type": "code",
   "execution_count": 21,
   "metadata": {},
   "outputs": [],
   "source": [
    "with fs.open(PATH_OUT, mode=\"r\") as file_in:\n",
    "    df_test = pd.read_csv(file_in)"
   ]
  },
  {
   "cell_type": "code",
   "execution_count": 22,
   "metadata": {},
   "outputs": [
    {
     "data": {
      "text/html": [
       "<div>\n",
       "<style scoped>\n",
       "    .dataframe tbody tr th:only-of-type {\n",
       "        vertical-align: middle;\n",
       "    }\n",
       "\n",
       "    .dataframe tbody tr th {\n",
       "        vertical-align: top;\n",
       "    }\n",
       "\n",
       "    .dataframe thead th {\n",
       "        text-align: right;\n",
       "    }\n",
       "</style>\n",
       "<table border=\"1\" class=\"dataframe\">\n",
       "  <thead>\n",
       "    <tr style=\"text-align: right;\">\n",
       "      <th></th>\n",
       "      <th>question</th>\n",
       "      <th>human_answers</th>\n",
       "      <th>chatgpt_answers</th>\n",
       "    </tr>\n",
       "  </thead>\n",
       "  <tbody>\n",
       "    <tr>\n",
       "      <th>0</th>\n",
       "      <td>Does Primolut N taken during pregnancy affect ...</td>\n",
       "      <td>['Hi,     Thanks for the query. I understand y...</td>\n",
       "      <td>['It is not recommended to use Primolut N duri...</td>\n",
       "    </tr>\n",
       "    <tr>\n",
       "      <th>1</th>\n",
       "      <td>Bloating and pain on right lower abdomen. Shou...</td>\n",
       "      <td>['Hello,Thanks for the query to H.C.M. Forum.P...</td>\n",
       "      <td>['If you are experiencing abdominal pain and b...</td>\n",
       "    </tr>\n",
       "    <tr>\n",
       "      <th>2</th>\n",
       "      <td>Is chest pain related to intake of clindamycin...</td>\n",
       "      <td>['Hello, The use of Clindamycin can cause stom...</td>\n",
       "      <td>['It is possible that chest pain could be rela...</td>\n",
       "    </tr>\n",
       "    <tr>\n",
       "      <th>3</th>\n",
       "      <td>Q. Noticed a yellowish sag in the gums of my 1...</td>\n",
       "      <td>['Hello. Revert back with the photos to a dent...</td>\n",
       "      <td>[\"It is difficult to accurately diagnose a con...</td>\n",
       "    </tr>\n",
       "    <tr>\n",
       "      <th>4</th>\n",
       "      <td>Suggest remedy for low grade fever, hot and co...</td>\n",
       "      <td>['Hi Dear,Welcome to Healthcaremagic Team.Unde...</td>\n",
       "      <td>[\"I'm sorry to hear that you're feeling sick. ...</td>\n",
       "    </tr>\n",
       "  </tbody>\n",
       "</table>\n",
       "</div>"
      ],
      "text/plain": [
       "                                            question  \\\n",
       "0  Does Primolut N taken during pregnancy affect ...   \n",
       "1  Bloating and pain on right lower abdomen. Shou...   \n",
       "2  Is chest pain related to intake of clindamycin...   \n",
       "3  Q. Noticed a yellowish sag in the gums of my 1...   \n",
       "4  Suggest remedy for low grade fever, hot and co...   \n",
       "\n",
       "                                       human_answers  \\\n",
       "0  ['Hi,     Thanks for the query. I understand y...   \n",
       "1  ['Hello,Thanks for the query to H.C.M. Forum.P...   \n",
       "2  ['Hello, The use of Clindamycin can cause stom...   \n",
       "3  ['Hello. Revert back with the photos to a dent...   \n",
       "4  ['Hi Dear,Welcome to Healthcaremagic Team.Unde...   \n",
       "\n",
       "                                     chatgpt_answers  \n",
       "0  ['It is not recommended to use Primolut N duri...  \n",
       "1  ['If you are experiencing abdominal pain and b...  \n",
       "2  ['It is possible that chest pain could be rela...  \n",
       "3  [\"It is difficult to accurately diagnose a con...  \n",
       "4  [\"I'm sorry to hear that you're feeling sick. ...  "
      ]
     },
     "execution_count": 22,
     "metadata": {},
     "output_type": "execute_result"
    }
   ],
   "source": [
    "df_test.head()"
   ]
  },
  {
   "cell_type": "code",
   "execution_count": 17,
   "metadata": {},
   "outputs": [
    {
     "name": "stdout",
     "output_type": "stream",
     "text": [
      "Epoch 1/15, Loss: 4.9847, Acc: 0.0354\n",
      "Test Acc: 0.1530\n",
      "Epoch duration: 7m 46s\n",
      "Epoch 2/15, Loss: 3.9516, Acc: 0.1374\n",
      "Test Acc: 0.3156\n",
      "Epoch duration: 10m 10s\n",
      "Epoch 3/15, Loss: 3.2958, Acc: 0.2419\n",
      "Test Acc: 0.4618\n",
      "Epoch duration: 6m 52s\n",
      "Epoch 4/15, Loss: 2.8759, Acc: 0.3258\n",
      "Test Acc: 0.5377\n",
      "Epoch duration: 5m 40s\n",
      "Epoch 5/15, Loss: 2.5561, Acc: 0.3913\n",
      "Test Acc: 0.6126\n",
      "Epoch duration: 5m 50s\n",
      "Epoch 6/15, Loss: 2.3714, Acc: 0.4271\n",
      "Test Acc: 0.6534\n",
      "Epoch duration: 5m 11s\n",
      "Epoch 7/15, Loss: 2.1253, Acc: 0.4831\n",
      "Test Acc: 0.6793\n",
      "Epoch duration: 5m 45s\n",
      "Epoch 8/15, Loss: 1.9872, Acc: 0.5098\n",
      "Test Acc: 0.6967\n",
      "Epoch duration: 5m 34s\n",
      "Epoch 9/15, Loss: 1.8547, Acc: 0.5413\n",
      "Test Acc: 0.7213\n",
      "Epoch duration: 5m 29s\n",
      "Epoch 10/15, Loss: 1.4764, Acc: 0.6429\n",
      "Test Acc: 0.8035\n",
      "Epoch duration: 5m 18s\n",
      "Epoch 11/15, Loss: 1.3323, Acc: 0.6817\n",
      "Test Acc: 0.8098\n",
      "Epoch duration: 5m 40s\n",
      "Epoch 12/15, Loss: 1.2818, Acc: 0.6992\n",
      "Test Acc: 0.8197\n",
      "Epoch duration: 5m 20s\n",
      "Epoch 13/15, Loss: 1.2349, Acc: 0.7073\n",
      "Test Acc: 0.8237\n",
      "Epoch duration: 5m 18s\n",
      "Epoch 14/15, Loss: 1.1828, Acc: 0.7113\n",
      "Test Acc: 0.8291\n",
      "Epoch duration: 5m 56s\n",
      "Epoch 15/15, Loss: 1.1891, Acc: 0.7211\n",
      "Test Acc: 0.8244\n",
      "Epoch duration: 5m 30s\n",
      "Finished Training\n"
     ]
    },
    {
     "data": {
      "image/png": "[encoded data removed]",
      "text/plain": [
       "<Figure size 1200x800 with 4 Axes>"
      ]
     },
     "metadata": {},
     "output_type": "display_data"
    }
   ],
   "source": [
    "import torch\n",
    "import torch.nn as nn\n",
    "import torch.optim as optim\n",
    "import matplotlib.pyplot as plt\n",
    "from torch.optim.lr_scheduler import ReduceLROnPlateau\n",
    "from torch.utils.data import DataLoader\n",
    "import time\n",
    "import torchvision\n",
    "from torchvision import datasets, models, transforms\n",
    "\n",
    "def train_model(model, criterion, optimizer, scheduler, train_loader, val_loader, n_epochs=1):\n",
    "    losses = []\n",
    "    accuracies = []\n",
    "    test_accuracies = []\n",
    "    model.train()\n",
    "    for epoch in range(n_epochs):\n",
    "        since = time.time()\n",
    "        running_loss = 0.0\n",
    "        running_corrects = 0\n",
    "        for inputs, labels in train_loader:\n",
    "            inputs = inputs.to(device)\n",
    "            labels = labels.to(device)\n",
    "            optimizer.zero_grad()\n",
    "            with torch.set_grad_enabled(True):\n",
    "                outputs = model(inputs)\n",
    "                _, preds = torch.max(outputs, 1)\n",
    "                loss = criterion(outputs, labels)\n",
    "                loss.backward()\n",
    "                optimizer.step()\n",
    "            running_loss += loss.item() * inputs.size(0)\n",
    "            running_corrects += torch.sum(preds == labels.data)\n",
    "        epoch_loss = running_loss / len(train_loader.dataset)\n",
    "        epoch_acc = running_corrects.double() / len(train_loader.dataset)\n",
    "        print(f\"Epoch {epoch + 1}/{n_epochs}, Loss: {epoch_loss:.4f}, Acc: {epoch_acc:.4f}\")\n",
    "        losses.append(epoch_loss)\n",
    "        accuracies.append(epoch_acc)\n",
    "\n",
    "        model.eval()\n",
    "        test_acc = eval_model(model, val_loader)\n",
    "        test_accuracies.append(test_acc)\n",
    "\n",
    "        model.train()\n",
    "        scheduler.step(test_acc)\n",
    "        time_elapsed = time.time() - since\n",
    "        print(f\"Epoch duration: {time_elapsed // 60:.0f}m {time_elapsed % 60:.0f}s\")\n",
    "\n",
    "    print('Finished Training')\n",
    "    return model, losses, accuracies, test_accuracies\n",
    "\n",
    "def eval_model(model, val_loader):\n",
    "    corrects = 0\n",
    "    total = 0\n",
    "    model.eval()\n",
    "    with torch.no_grad():\n",
    "        for inputs, labels in val_loader:\n",
    "            inputs = inputs.to(device)\n",
    "            labels = labels.to(device)\n",
    "            outputs = model(inputs)\n",
    "            _, preds = torch.max(outputs, 1)\n",
    "            corrects += torch.sum(preds == labels.data)\n",
    "            total += labels.size(0)\n",
    "    acc = corrects.double() / total\n",
    "    print(f'Test Acc: {acc:.4f}')\n",
    "    return acc\n",
    "\n",
    "if __name__ == '__main__':\n",
    "    # Data transforms\n",
    "    data_transforms = {\n",
    "        'train': transforms.Compose([\n",
    "            transforms.RandomResizedCrop(224),\n",
    "            transforms.RandomHorizontalFlip(),\n",
    "            transforms.ToTensor(),\n",
    "            transforms.Normalize([0.485, 0.456, 0.406], [0.229, 0.224, 0.225])\n",
    "        ]),\n",
    "        'test': transforms.Compose([\n",
    "            transforms.Resize(256),\n",
    "            transforms.CenterCrop(224),\n",
    "            transforms.ToTensor(),\n",
    "            transforms.Normalize([0.485, 0.456, 0.406], [0.229, 0.224, 0.225])\n",
    "        ]),\n",
    "    }\n",
    "\n",
    "    # Load data\n",
    "    data_dir = '/home/onyxia/work/6milarit-7/data/stanford-car-dataset-by-classes-folder/car_data/car_data'\n",
    "    image_datasets = {x: datasets.ImageFolder(\n",
    "                        root=data_dir + '/' + x,\n",
    "                        transform=data_transforms[x])\n",
    "                      for x in ['train', 'test']}\n",
    "\n",
    "    # Create data loaders\n",
    "    dataloaders = {x: DataLoader(image_datasets[x], batch_size=4, shuffle=True, num_workers=2)\n",
    "                   for x in ['train', 'test']}\n",
    "    dataset_sizes = {x: len(image_datasets[x]) for x in ['train', 'test']}\n",
    "\n",
    "    # Initialize model\n",
    "    model = models.resnet18(pretrained=True)\n",
    "    num_ftrs = model.fc.in_features\n",
    "    model.fc = nn.Linear(num_ftrs, 196)\n",
    "\n",
    "    # Use GPU if available\n",
    "    device = torch.device(\"cuda:0\" if torch.cuda.is_available() else \"cpu\")\n",
    "    model = model.to(device)\n",
    "\n",
    "    # Loss function and optimizer\n",
    "    criterion = nn.CrossEntropyLoss()\n",
    "    optimizer = optim.SGD(model.parameters(), lr=0.001, momentum=0.9)\n",
    "    scheduler = ReduceLROnPlateau(optimizer, mode='max', patience=3, threshold=0.9)\n",
    "\n",
    "    # Train the model\n",
    "    model, training_losses, training_accs, test_accs = train_model(model, criterion, optimizer, scheduler,\n",
    "                                                                   dataloaders['train'], dataloaders['test'], n_epochs=15)\n",
    "\n",
    "    # Save the trained model\n",
    "    torch.save(model.state_dict(), \"./trainedModelFinal.pt\")\n",
    "\n",
    "    # Plot results\n",
    "    fig, axarr = plt.subplots(2, 2, figsize=(12, 8))\n",
    "    axarr[0, 0].plot(training_losses)\n",
    "    axarr[0, 0].set_title(\"Training loss\")\n",
    "    axarr[0, 1].plot(training_accs)\n",
    "    axarr[0, 1].set_title(\"Training accuracy\")\n",
    "    axarr[1, 0].plot(test_accs)\n",
    "    axarr[1, 0].set_title(\"Test accuracy\")\n",
    "\n",
    "    plt.show()\n"
   ]
  }
 ],
 "metadata": {
  "kernelspec": {
   "display_name": "base",
   "language": "python",
   "name": "python3"
  },
  "language_info": {
   "codemirror_mode": {
    "name": "ipython",
    "version": 3
   },
   "file_extension": ".py",
   "mimetype": "text/x-python",
   "name": "python",
   "nbconvert_exporter": "python",
   "pygments_lexer": "ipython3",
   "version": "3.11.6"
  }
 },
 "nbformat": 4,
 "nbformat_minor": 2
}
