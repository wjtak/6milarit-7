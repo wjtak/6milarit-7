{
 "cells": [
  {
   "cell_type": "markdown",
   "metadata": {},
   "source": [
    "## Tutoriel : interagir avec le système de stockage S3 du SSP Cloud (MinIO)"
   ]
  },
  {
   "cell_type": "code",
   "execution_count": 1,
   "metadata": {},
   "outputs": [],
   "source": [
    "import os\n",
    "\n",
    "import pandas as pd\n",
    "import s3fs\n",
    "import zipfile"
   ]
  },
  {
   "cell_type": "markdown",
   "metadata": {},
   "source": [
    "### Récupérer les données d'un challenge"
   ]
  },
  {
   "cell_type": "code",
   "execution_count": 2,
   "metadata": {},
   "outputs": [],
   "source": [
    "# Create filesystem object\n",
    "S3_ENDPOINT_URL = \"https://\" + os.environ[\"AWS_S3_ENDPOINT\"]\n",
    "fs = s3fs.S3FileSystem(client_kwargs={'endpoint_url': S3_ENDPOINT_URL})"
   ]
  },
  {
   "cell_type": "code",
   "execution_count": 3,
   "metadata": {},
   "outputs": [
    {
     "data": {
      "text/plain": [
       "['gvimont/diffusion/hackathon-minarm-2024/AIVSAI',\n",
       " 'gvimont/diffusion/hackathon-minarm-2024/Acoustique',\n",
       " 'gvimont/diffusion/hackathon-minarm-2024/Similarité']"
      ]
     },
     "execution_count": 3,
     "metadata": {},
     "output_type": "execute_result"
    }
   ],
   "source": [
    "# Lister les challenges\n",
    "fs.ls(\"gvimont/diffusion/hackathon-minarm-2024\")"
   ]
  },
  {
   "cell_type": "code",
   "execution_count": 4,
   "metadata": {},
   "outputs": [
    {
     "data": {
      "text/plain": [
       "['gvimont/diffusion/hackathon-minarm-2024/Similarité/.keep',\n",
       " 'gvimont/diffusion/hackathon-minarm-2024/Similarité/archive.zip']"
      ]
     },
     "execution_count": 4,
     "metadata": {},
     "output_type": "execute_result"
    }
   ],
   "source": [
    "# Lister les fichiers d'un challenge\n",
    "fs.ls(\"gvimont/diffusion/hackathon-minarm-2024/Similarité\")"
   ]
  },
  {
   "cell_type": "code",
   "execution_count": 5,
   "metadata": {},
   "outputs": [
    {
     "data": {
      "text/plain": [
       "[None]"
      ]
     },
     "execution_count": 5,
     "metadata": {},
     "output_type": "execute_result"
    }
   ],
   "source": [
    "# Télécharger les données dans le service\n",
    "PATH_IN = 'gvimont/diffusion/hackathon-minarm-2024/Similarité/archive.zip'\n",
    "fs.download(PATH_IN, 'data/archive.zip')"
   ]
  },
  {
   "cell_type": "code",
   "execution_count": 7,
   "metadata": {},
   "outputs": [],
   "source": [
    "# Décompresser les données\n",
    "with zipfile.ZipFile(\"data/archive.zip\",\"r\") as zip_file:\n",
    "    zip_file.extractall(\"data/\")"
   ]
  },
  {
   "cell_type": "markdown",
   "metadata": {},
   "source": [
    "NB : les données peuvent être également téléchargées directement si besoin, pour être utilisées hors du SSP CLoud.\n",
    "Exemple pour le fichier ci-dessus (même format de lien pour les autres challenges) : \n",
    "\n",
    "http://minio.lab.sspcloud.fr/gvimont/diffusion/hackathon-minarm-2024/AIVSAI/HC3.zip"
   ]
  },
  {
   "cell_type": "markdown",
   "metadata": {},
   "source": [
    "### Exporter des données"
   ]
  },
  {
   "cell_type": "code",
   "execution_count": 10,
   "metadata": {},
   "outputs": [
    {
     "data": {
      "text/html": [
       "<div>\n",
       "<style scoped>\n",
       "    .dataframe tbody tr th:only-of-type {\n",
       "        vertical-align: middle;\n",
       "    }\n",
       "\n",
       "    .dataframe tbody tr th {\n",
       "        vertical-align: top;\n",
       "    }\n",
       "\n",
       "    .dataframe thead th {\n",
       "        text-align: right;\n",
       "    }\n",
       "</style>\n",
       "<table border=\"1\" class=\"dataframe\">\n",
       "  <thead>\n",
       "    <tr style=\"text-align: right;\">\n",
       "      <th></th>\n",
       "      <th>Imagefile</th>\n",
       "      <th>Bounding_boxe1</th>\n",
       "      <th>Bounding_boxe2</th>\n",
       "      <th>Bounding_boxe3</th>\n",
       "      <th>Bounding_boxe4</th>\n",
       "      <th>class number</th>\n",
       "    </tr>\n",
       "  </thead>\n",
       "  <tbody>\n",
       "    <tr>\n",
       "      <th>0</th>\n",
       "      <td>00001.jpg</td>\n",
       "      <td>39</td>\n",
       "      <td>116</td>\n",
       "      <td>569</td>\n",
       "      <td>375</td>\n",
       "      <td>14</td>\n",
       "    </tr>\n",
       "    <tr>\n",
       "      <th>1</th>\n",
       "      <td>00002.jpg</td>\n",
       "      <td>36</td>\n",
       "      <td>116</td>\n",
       "      <td>868</td>\n",
       "      <td>587</td>\n",
       "      <td>3</td>\n",
       "    </tr>\n",
       "    <tr>\n",
       "      <th>2</th>\n",
       "      <td>00003.jpg</td>\n",
       "      <td>85</td>\n",
       "      <td>109</td>\n",
       "      <td>601</td>\n",
       "      <td>381</td>\n",
       "      <td>91</td>\n",
       "    </tr>\n",
       "    <tr>\n",
       "      <th>3</th>\n",
       "      <td>00004.jpg</td>\n",
       "      <td>621</td>\n",
       "      <td>393</td>\n",
       "      <td>1484</td>\n",
       "      <td>1096</td>\n",
       "      <td>134</td>\n",
       "    </tr>\n",
       "    <tr>\n",
       "      <th>4</th>\n",
       "      <td>00005.jpg</td>\n",
       "      <td>14</td>\n",
       "      <td>36</td>\n",
       "      <td>133</td>\n",
       "      <td>99</td>\n",
       "      <td>106</td>\n",
       "    </tr>\n",
       "  </tbody>\n",
       "</table>\n",
       "</div>"
      ],
      "text/plain": [
       "   Imagefile  Bounding_boxe1  Bounding_boxe2  Bounding_boxe3  Bounding_boxe4  \\\n",
       "0  00001.jpg              39             116             569             375   \n",
       "1  00002.jpg              36             116             868             587   \n",
       "2  00003.jpg              85             109             601             381   \n",
       "3  00004.jpg             621             393            1484            1096   \n",
       "4  00005.jpg              14              36             133              99   \n",
       "\n",
       "   class number  \n",
       "0            14  \n",
       "1             3  \n",
       "2            91  \n",
       "3           134  \n",
       "4           106  "
      ]
     },
     "execution_count": 10,
     "metadata": {},
     "output_type": "execute_result"
    }
   ],
   "source": [
    "import pandas as pd\n",
    "\n",
    "#df = pd.read.('/data/HC3/medicine.jsonl', lines=True)\n",
    "df_train = pd.read_csv(r\"./data/anno_train.csv\", header=None)\n",
    "df_test = pd.read_csv(r\"./data/anno_test.csv\", header=None)\n",
    "\n",
    "# Ajouter des en-têtes au DataFrame\n",
    "headers = ['Imagefile', 'Bounding_boxe1','Bounding_boxe2' ,'Bounding_boxe3','Bounding_boxe4','class number']\n",
    "df_train.columns = headers\n",
    "df_test.columns = headers\n",
    "\n",
    "\n",
    "\n",
    "df_train.head()\n",
    "#df_test\n"
   ]
  },
  {
   "cell_type": "code",
   "execution_count": 11,
   "metadata": {},
   "outputs": [
    {
     "data": {
      "text/plain": [
       "Imagefile         0\n",
       "Bounding_boxe1    0\n",
       "Bounding_boxe2    0\n",
       "Bounding_boxe3    0\n",
       "Bounding_boxe4    0\n",
       "class number      0\n",
       "dtype: int64"
      ]
     },
     "execution_count": 11,
     "metadata": {},
     "output_type": "execute_result"
    }
   ],
   "source": [
    "df_train.isnull().sum()\n"
   ]
  },
  {
   "cell_type": "code",
   "execution_count": 19,
   "metadata": {},
   "outputs": [],
   "source": [
    "# Export vers un bucket personnel\n",
    "PATH_OUT = 'avouacr/diffusion/projet-mongroupe-hackathon/medicine.csv'\n",
    "\n",
    "with fs.open(PATH_OUT, 'w') as file_out:\n",
    "    df.to_csv(file_out, index=False)"
   ]
  },
  {
   "cell_type": "code",
   "execution_count": 20,
   "metadata": {},
   "outputs": [
    {
     "data": {
      "text/plain": [
       "['avouacr/diffusion/projet-mongroupe-hackathon/medicine.csv']"
      ]
     },
     "execution_count": 20,
     "metadata": {},
     "output_type": "execute_result"
    }
   ],
   "source": [
    "# NB : le dossier 'diffusion' permet un accès en lecture à tous les membres du groupe !\n",
    "# Tous les membres peuvent donc le voir et l'utiliser dans un service\n",
    "fs.ls(\"avouacr/diffusion/projet-mongroupe-hackathon\")"
   ]
  },
  {
   "cell_type": "code",
   "execution_count": 21,
   "metadata": {},
   "outputs": [],
   "source": [
    "with fs.open(PATH_OUT, mode=\"r\") as file_in:\n",
    "    df_test = pd.read_csv(file_in)"
   ]
  },
  {
   "cell_type": "code",
   "execution_count": 22,
   "metadata": {},
   "outputs": [
    {
     "data": {
      "text/html": [
       "<div>\n",
       "<style scoped>\n",
       "    .dataframe tbody tr th:only-of-type {\n",
       "        vertical-align: middle;\n",
       "    }\n",
       "\n",
       "    .dataframe tbody tr th {\n",
       "        vertical-align: top;\n",
       "    }\n",
       "\n",
       "    .dataframe thead th {\n",
       "        text-align: right;\n",
       "    }\n",
       "</style>\n",
       "<table border=\"1\" class=\"dataframe\">\n",
       "  <thead>\n",
       "    <tr style=\"text-align: right;\">\n",
       "      <th></th>\n",
       "      <th>question</th>\n",
       "      <th>human_answers</th>\n",
       "      <th>chatgpt_answers</th>\n",
       "    </tr>\n",
       "  </thead>\n",
       "  <tbody>\n",
       "    <tr>\n",
       "      <th>0</th>\n",
       "      <td>Does Primolut N taken during pregnancy affect ...</td>\n",
       "      <td>['Hi,     Thanks for the query. I understand y...</td>\n",
       "      <td>['It is not recommended to use Primolut N duri...</td>\n",
       "    </tr>\n",
       "    <tr>\n",
       "      <th>1</th>\n",
       "      <td>Bloating and pain on right lower abdomen. Shou...</td>\n",
       "      <td>['Hello,Thanks for the query to H.C.M. Forum.P...</td>\n",
       "      <td>['If you are experiencing abdominal pain and b...</td>\n",
       "    </tr>\n",
       "    <tr>\n",
       "      <th>2</th>\n",
       "      <td>Is chest pain related to intake of clindamycin...</td>\n",
       "      <td>['Hello, The use of Clindamycin can cause stom...</td>\n",
       "      <td>['It is possible that chest pain could be rela...</td>\n",
       "    </tr>\n",
       "    <tr>\n",
       "      <th>3</th>\n",
       "      <td>Q. Noticed a yellowish sag in the gums of my 1...</td>\n",
       "      <td>['Hello. Revert back with the photos to a dent...</td>\n",
       "      <td>[\"It is difficult to accurately diagnose a con...</td>\n",
       "    </tr>\n",
       "    <tr>\n",
       "      <th>4</th>\n",
       "      <td>Suggest remedy for low grade fever, hot and co...</td>\n",
       "      <td>['Hi Dear,Welcome to Healthcaremagic Team.Unde...</td>\n",
       "      <td>[\"I'm sorry to hear that you're feeling sick. ...</td>\n",
       "    </tr>\n",
       "  </tbody>\n",
       "</table>\n",
       "</div>"
      ],
      "text/plain": [
       "                                            question  \\\n",
       "0  Does Primolut N taken during pregnancy affect ...   \n",
       "1  Bloating and pain on right lower abdomen. Shou...   \n",
       "2  Is chest pain related to intake of clindamycin...   \n",
       "3  Q. Noticed a yellowish sag in the gums of my 1...   \n",
       "4  Suggest remedy for low grade fever, hot and co...   \n",
       "\n",
       "                                       human_answers  \\\n",
       "0  ['Hi,     Thanks for the query. I understand y...   \n",
       "1  ['Hello,Thanks for the query to H.C.M. Forum.P...   \n",
       "2  ['Hello, The use of Clindamycin can cause stom...   \n",
       "3  ['Hello. Revert back with the photos to a dent...   \n",
       "4  ['Hi Dear,Welcome to Healthcaremagic Team.Unde...   \n",
       "\n",
       "                                     chatgpt_answers  \n",
       "0  ['It is not recommended to use Primolut N duri...  \n",
       "1  ['If you are experiencing abdominal pain and b...  \n",
       "2  ['It is possible that chest pain could be rela...  \n",
       "3  [\"It is difficult to accurately diagnose a con...  \n",
       "4  [\"I'm sorry to hear that you're feeling sick. ...  "
      ]
     },
     "execution_count": 22,
     "metadata": {},
     "output_type": "execute_result"
    }
   ],
   "source": [
    "df_test.head()"
   ]
  },
  {
   "cell_type": "code",
   "execution_count": null,
   "metadata": {},
   "outputs": [],
   "source": []
  }
 ],
 "metadata": {
  "kernelspec": {
   "display_name": "base",
   "language": "python",
   "name": "python3"
  },
  "language_info": {
   "codemirror_mode": {
    "name": "ipython",
    "version": 3
   },
   "file_extension": ".py",
   "mimetype": "text/x-python",
   "name": "python",
   "nbconvert_exporter": "python",
   "pygments_lexer": "ipython3",
   "version": "3.11.6"
  }
 },
 "nbformat": 4,
 "nbformat_minor": 2
}
