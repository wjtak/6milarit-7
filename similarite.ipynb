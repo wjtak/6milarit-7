{
 "cells": [
  {
   "cell_type": "code",
   "execution_count": 1,
   "metadata": {},
   "outputs": [],
   "source": [
    "import os\n",
    "\n",
    "import pandas as pd\n",
    "import s3fs\n",
    "import zipfile"
   ]
  },
  {
   "cell_type": "code",
   "execution_count": 2,
   "metadata": {},
   "outputs": [],
   "source": [
    "# Create filesystem object\n",
    "S3_ENDPOINT_URL = \"https://\" + os.environ[\"AWS_S3_ENDPOINT\"]\n",
    "fs = s3fs.S3FileSystem(client_kwargs={'endpoint_url': S3_ENDPOINT_URL})"
   ]
  },
  {
   "cell_type": "code",
   "execution_count": 3,
   "metadata": {},
   "outputs": [
    {
     "data": {
      "text/plain": [
       "['gvimont/diffusion/hackathon-minarm-2024/AIVSAI',\n",
       " 'gvimont/diffusion/hackathon-minarm-2024/Acoustique',\n",
       " 'gvimont/diffusion/hackathon-minarm-2024/Similarité']"
      ]
     },
     "execution_count": 3,
     "metadata": {},
     "output_type": "execute_result"
    }
   ],
   "source": [
    "# Lister les challenges\n",
    "fs.ls(\"gvimont/diffusion/hackathon-minarm-2024\")"
   ]
  },
  {
   "cell_type": "code",
   "execution_count": 4,
   "metadata": {},
   "outputs": [
    {
     "data": {
      "text/plain": [
       "['gvimont/diffusion/hackathon-minarm-2024/Similarité/.keep',\n",
       " 'gvimont/diffusion/hackathon-minarm-2024/Similarité/archive.zip']"
      ]
     },
     "execution_count": 4,
     "metadata": {},
     "output_type": "execute_result"
    }
   ],
   "source": [
    "# Lister les fichiers d'un challenge\n",
    "fs.ls(\"gvimont/diffusion/hackathon-minarm-2024/Similarité\")"
   ]
  },
  {
   "cell_type": "code",
   "execution_count": 5,
   "metadata": {},
   "outputs": [
    {
     "data": {
      "text/plain": [
       "[None]"
      ]
     },
     "execution_count": 5,
     "metadata": {},
     "output_type": "execute_result"
    }
   ],
   "source": [
    "# Télécharger les données dans le service\n",
    "PATH_IN = 'gvimont/diffusion/hackathon-minarm-2024/Similarité/archive.zip'\n",
    "fs.download(PATH_IN, 'data/similarite.zip')"
   ]
  },
  {
   "cell_type": "code",
   "execution_count": 6,
   "metadata": {},
   "outputs": [],
   "source": [
    "# Décompresser les données\n",
    "with zipfile.ZipFile(\"data/similarite.zip\",\"r\") as zip_file:\n",
    "    zip_file.extractall(\"data/\")"
   ]
  },
  {
   "cell_type": "code",
   "execution_count": 14,
   "metadata": {},
   "outputs": [
    {
     "name": "stdout",
     "output_type": "stream",
     "text": [
      "dict_keys(['__header__', '__version__', '__globals__', 'annotations', 'class_names'])\n"
     ]
    },
    {
     "data": {
      "text/plain": [
       "array([[array(['AM General Hummer SUV 2000'], dtype='<U26'),\n",
       "        array(['Acura RL Sedan 2012'], dtype='<U19'),\n",
       "        array(['Acura TL Sedan 2012'], dtype='<U19'),\n",
       "        array(['Acura TL Type-S 2008'], dtype='<U20'),\n",
       "        array(['Acura TSX Sedan 2012'], dtype='<U20'),\n",
       "        array(['Acura Integra Type R 2001'], dtype='<U25'),\n",
       "        array(['Acura ZDX Hatchback 2012'], dtype='<U24'),\n",
       "        array(['Aston Martin V8 Vantage Convertible 2012'], dtype='<U40'),\n",
       "        array(['Aston Martin V8 Vantage Coupe 2012'], dtype='<U34'),\n",
       "        array(['Aston Martin Virage Convertible 2012'], dtype='<U36'),\n",
       "        array(['Aston Martin Virage Coupe 2012'], dtype='<U30'),\n",
       "        array(['Audi RS 4 Convertible 2008'], dtype='<U26'),\n",
       "        array(['Audi A5 Coupe 2012'], dtype='<U18'),\n",
       "        array(['Audi TTS Coupe 2012'], dtype='<U19'),\n",
       "        array(['Audi R8 Coupe 2012'], dtype='<U18'),\n",
       "        array(['Audi V8 Sedan 1994'], dtype='<U18'),\n",
       "        array(['Audi 100 Sedan 1994'], dtype='<U19'),\n",
       "        array(['Audi 100 Wagon 1994'], dtype='<U19'),\n",
       "        array(['Audi TT Hatchback 2011'], dtype='<U22'),\n",
       "        array(['Audi S6 Sedan 2011'], dtype='<U18'),\n",
       "        array(['Audi S5 Convertible 2012'], dtype='<U24'),\n",
       "        array(['Audi S5 Coupe 2012'], dtype='<U18'),\n",
       "        array(['Audi S4 Sedan 2012'], dtype='<U18'),\n",
       "        array(['Audi S4 Sedan 2007'], dtype='<U18'),\n",
       "        array(['Audi TT RS Coupe 2012'], dtype='<U21'),\n",
       "        array(['BMW ActiveHybrid 5 Sedan 2012'], dtype='<U29'),\n",
       "        array(['BMW 1 Series Convertible 2012'], dtype='<U29'),\n",
       "        array(['BMW 1 Series Coupe 2012'], dtype='<U23'),\n",
       "        array(['BMW 3 Series Sedan 2012'], dtype='<U23'),\n",
       "        array(['BMW 3 Series Wagon 2012'], dtype='<U23'),\n",
       "        array(['BMW 6 Series Convertible 2007'], dtype='<U29'),\n",
       "        array(['BMW X5 SUV 2007'], dtype='<U15'),\n",
       "        array(['BMW X6 SUV 2012'], dtype='<U15'),\n",
       "        array(['BMW M3 Coupe 2012'], dtype='<U17'),\n",
       "        array(['BMW M5 Sedan 2010'], dtype='<U17'),\n",
       "        array(['BMW M6 Convertible 2010'], dtype='<U23'),\n",
       "        array(['BMW X3 SUV 2012'], dtype='<U15'),\n",
       "        array(['BMW Z4 Convertible 2012'], dtype='<U23'),\n",
       "        array(['Bentley Continental Supersports Conv. Convertible 2012'],\n",
       "              dtype='<U54')                                              ,\n",
       "        array(['Bentley Arnage Sedan 2009'], dtype='<U25'),\n",
       "        array(['Bentley Mulsanne Sedan 2011'], dtype='<U27'),\n",
       "        array(['Bentley Continental GT Coupe 2012'], dtype='<U33'),\n",
       "        array(['Bentley Continental GT Coupe 2007'], dtype='<U33'),\n",
       "        array(['Bentley Continental Flying Spur Sedan 2007'], dtype='<U42'),\n",
       "        array(['Bugatti Veyron 16.4 Convertible 2009'], dtype='<U36'),\n",
       "        array(['Bugatti Veyron 16.4 Coupe 2009'], dtype='<U30'),\n",
       "        array(['Buick Regal GS 2012'], dtype='<U19'),\n",
       "        array(['Buick Rainier SUV 2007'], dtype='<U22'),\n",
       "        array(['Buick Verano Sedan 2012'], dtype='<U23'),\n",
       "        array(['Buick Enclave SUV 2012'], dtype='<U22'),\n",
       "        array(['Cadillac CTS-V Sedan 2012'], dtype='<U25'),\n",
       "        array(['Cadillac SRX SUV 2012'], dtype='<U21'),\n",
       "        array(['Cadillac Escalade EXT Crew Cab 2007'], dtype='<U35'),\n",
       "        array(['Chevrolet Silverado 1500 Hybrid Crew Cab 2012'], dtype='<U45'),\n",
       "        array(['Chevrolet Corvette Convertible 2012'], dtype='<U35'),\n",
       "        array(['Chevrolet Corvette ZR1 2012'], dtype='<U27'),\n",
       "        array(['Chevrolet Corvette Ron Fellows Edition Z06 2007'], dtype='<U47'),\n",
       "        array(['Chevrolet Traverse SUV 2012'], dtype='<U27'),\n",
       "        array(['Chevrolet Camaro Convertible 2012'], dtype='<U33'),\n",
       "        array(['Chevrolet HHR SS 2010'], dtype='<U21'),\n",
       "        array(['Chevrolet Impala Sedan 2007'], dtype='<U27'),\n",
       "        array(['Chevrolet Tahoe Hybrid SUV 2012'], dtype='<U31'),\n",
       "        array(['Chevrolet Sonic Sedan 2012'], dtype='<U26'),\n",
       "        array(['Chevrolet Express Cargo Van 2007'], dtype='<U32'),\n",
       "        array(['Chevrolet Avalanche Crew Cab 2012'], dtype='<U33'),\n",
       "        array(['Chevrolet Cobalt SS 2010'], dtype='<U24'),\n",
       "        array(['Chevrolet Malibu Hybrid Sedan 2010'], dtype='<U34'),\n",
       "        array(['Chevrolet TrailBlazer SS 2009'], dtype='<U29'),\n",
       "        array(['Chevrolet Silverado 2500HD Regular Cab 2012'], dtype='<U43'),\n",
       "        array(['Chevrolet Silverado 1500 Classic Extended Cab 2007'], dtype='<U50'),\n",
       "        array(['Chevrolet Express Van 2007'], dtype='<U26'),\n",
       "        array(['Chevrolet Monte Carlo Coupe 2007'], dtype='<U32'),\n",
       "        array(['Chevrolet Malibu Sedan 2007'], dtype='<U27'),\n",
       "        array(['Chevrolet Silverado 1500 Extended Cab 2012'], dtype='<U42'),\n",
       "        array(['Chevrolet Silverado 1500 Regular Cab 2012'], dtype='<U41'),\n",
       "        array(['Chrysler Aspen SUV 2009'], dtype='<U23'),\n",
       "        array(['Chrysler Sebring Convertible 2010'], dtype='<U33'),\n",
       "        array(['Chrysler Town and Country Minivan 2012'], dtype='<U38'),\n",
       "        array(['Chrysler 300 SRT-8 2010'], dtype='<U23'),\n",
       "        array(['Chrysler Crossfire Convertible 2008'], dtype='<U35'),\n",
       "        array(['Chrysler PT Cruiser Convertible 2008'], dtype='<U36'),\n",
       "        array(['Daewoo Nubira Wagon 2002'], dtype='<U24'),\n",
       "        array(['Dodge Caliber Wagon 2012'], dtype='<U24'),\n",
       "        array(['Dodge Caliber Wagon 2007'], dtype='<U24'),\n",
       "        array(['Dodge Caravan Minivan 1997'], dtype='<U26'),\n",
       "        array(['Dodge Ram Pickup 3500 Crew Cab 2010'], dtype='<U35'),\n",
       "        array(['Dodge Ram Pickup 3500 Quad Cab 2009'], dtype='<U35'),\n",
       "        array(['Dodge Sprinter Cargo Van 2009'], dtype='<U29'),\n",
       "        array(['Dodge Journey SUV 2012'], dtype='<U22'),\n",
       "        array(['Dodge Dakota Crew Cab 2010'], dtype='<U26'),\n",
       "        array(['Dodge Dakota Club Cab 2007'], dtype='<U26'),\n",
       "        array(['Dodge Magnum Wagon 2008'], dtype='<U23'),\n",
       "        array(['Dodge Challenger SRT8 2011'], dtype='<U26'),\n",
       "        array(['Dodge Durango SUV 2012'], dtype='<U22'),\n",
       "        array(['Dodge Durango SUV 2007'], dtype='<U22'),\n",
       "        array(['Dodge Charger Sedan 2012'], dtype='<U24'),\n",
       "        array(['Dodge Charger SRT-8 2009'], dtype='<U24'),\n",
       "        array(['Eagle Talon Hatchback 1998'], dtype='<U26'),\n",
       "        array(['FIAT 500 Abarth 2012'], dtype='<U20'),\n",
       "        array(['FIAT 500 Convertible 2012'], dtype='<U25'),\n",
       "        array(['Ferrari FF Coupe 2012'], dtype='<U21'),\n",
       "        array(['Ferrari California Convertible 2012'], dtype='<U35'),\n",
       "        array(['Ferrari 458 Italia Convertible 2012'], dtype='<U35'),\n",
       "        array(['Ferrari 458 Italia Coupe 2012'], dtype='<U29'),\n",
       "        array(['Fisker Karma Sedan 2012'], dtype='<U23'),\n",
       "        array(['Ford F-450 Super Duty Crew Cab 2012'], dtype='<U35'),\n",
       "        array(['Ford Mustang Convertible 2007'], dtype='<U29'),\n",
       "        array(['Ford Freestar Minivan 2007'], dtype='<U26'),\n",
       "        array(['Ford Expedition EL SUV 2009'], dtype='<U27'),\n",
       "        array(['Ford Edge SUV 2012'], dtype='<U18'),\n",
       "        array(['Ford Ranger SuperCab 2011'], dtype='<U25'),\n",
       "        array(['Ford GT Coupe 2006'], dtype='<U18'),\n",
       "        array(['Ford F-150 Regular Cab 2012'], dtype='<U27'),\n",
       "        array(['Ford F-150 Regular Cab 2007'], dtype='<U27'),\n",
       "        array(['Ford Focus Sedan 2007'], dtype='<U21'),\n",
       "        array(['Ford E-Series Wagon Van 2012'], dtype='<U28'),\n",
       "        array(['Ford Fiesta Sedan 2012'], dtype='<U22'),\n",
       "        array(['GMC Terrain SUV 2012'], dtype='<U20'),\n",
       "        array(['GMC Savana Van 2012'], dtype='<U19'),\n",
       "        array(['GMC Yukon Hybrid SUV 2012'], dtype='<U25'),\n",
       "        array(['GMC Acadia SUV 2012'], dtype='<U19'),\n",
       "        array(['GMC Canyon Extended Cab 2012'], dtype='<U28'),\n",
       "        array(['Geo Metro Convertible 1993'], dtype='<U26'),\n",
       "        array(['HUMMER H3T Crew Cab 2010'], dtype='<U24'),\n",
       "        array(['HUMMER H2 SUT Crew Cab 2009'], dtype='<U27'),\n",
       "        array(['Honda Odyssey Minivan 2012'], dtype='<U26'),\n",
       "        array(['Honda Odyssey Minivan 2007'], dtype='<U26'),\n",
       "        array(['Honda Accord Coupe 2012'], dtype='<U23'),\n",
       "        array(['Honda Accord Sedan 2012'], dtype='<U23'),\n",
       "        array(['Hyundai Veloster Hatchback 2012'], dtype='<U31'),\n",
       "        array(['Hyundai Santa Fe SUV 2012'], dtype='<U25'),\n",
       "        array(['Hyundai Tucson SUV 2012'], dtype='<U23'),\n",
       "        array(['Hyundai Veracruz SUV 2012'], dtype='<U25'),\n",
       "        array(['Hyundai Sonata Hybrid Sedan 2012'], dtype='<U32'),\n",
       "        array(['Hyundai Elantra Sedan 2007'], dtype='<U26'),\n",
       "        array(['Hyundai Accent Sedan 2012'], dtype='<U25'),\n",
       "        array(['Hyundai Genesis Sedan 2012'], dtype='<U26'),\n",
       "        array(['Hyundai Sonata Sedan 2012'], dtype='<U25'),\n",
       "        array(['Hyundai Elantra Touring Hatchback 2012'], dtype='<U38'),\n",
       "        array(['Hyundai Azera Sedan 2012'], dtype='<U24'),\n",
       "        array(['Infiniti G Coupe IPL 2012'], dtype='<U25'),\n",
       "        array(['Infiniti QX56 SUV 2011'], dtype='<U22'),\n",
       "        array(['Isuzu Ascender SUV 2008'], dtype='<U23'),\n",
       "        array(['Jaguar XK XKR 2012'], dtype='<U18'),\n",
       "        array(['Jeep Patriot SUV 2012'], dtype='<U21'),\n",
       "        array(['Jeep Wrangler SUV 2012'], dtype='<U22'),\n",
       "        array(['Jeep Liberty SUV 2012'], dtype='<U21'),\n",
       "        array(['Jeep Grand Cherokee SUV 2012'], dtype='<U28'),\n",
       "        array(['Jeep Compass SUV 2012'], dtype='<U21'),\n",
       "        array(['Lamborghini Reventon Coupe 2008'], dtype='<U31'),\n",
       "        array(['Lamborghini Aventador Coupe 2012'], dtype='<U32'),\n",
       "        array(['Lamborghini Gallardo LP 570-4 Superleggera 2012'], dtype='<U47'),\n",
       "        array(['Lamborghini Diablo Coupe 2001'], dtype='<U29'),\n",
       "        array(['Land Rover Range Rover SUV 2012'], dtype='<U31'),\n",
       "        array(['Land Rover LR2 SUV 2012'], dtype='<U23'),\n",
       "        array(['Lincoln Town Car Sedan 2011'], dtype='<U27'),\n",
       "        array(['MINI Cooper Roadster Convertible 2012'], dtype='<U37'),\n",
       "        array(['Maybach Landaulet Convertible 2012'], dtype='<U34'),\n",
       "        array(['Mazda Tribute SUV 2011'], dtype='<U22'),\n",
       "        array(['McLaren MP4-12C Coupe 2012'], dtype='<U26'),\n",
       "        array(['Mercedes-Benz 300-Class Convertible 1993'], dtype='<U40'),\n",
       "        array(['Mercedes-Benz C-Class Sedan 2012'], dtype='<U32'),\n",
       "        array(['Mercedes-Benz SL-Class Coupe 2009'], dtype='<U33'),\n",
       "        array(['Mercedes-Benz E-Class Sedan 2012'], dtype='<U32'),\n",
       "        array(['Mercedes-Benz S-Class Sedan 2012'], dtype='<U32'),\n",
       "        array(['Mercedes-Benz Sprinter Van 2012'], dtype='<U31'),\n",
       "        array(['Mitsubishi Lancer Sedan 2012'], dtype='<U28'),\n",
       "        array(['Nissan Leaf Hatchback 2012'], dtype='<U26'),\n",
       "        array(['Nissan NV Passenger Van 2012'], dtype='<U28'),\n",
       "        array(['Nissan Juke Hatchback 2012'], dtype='<U26'),\n",
       "        array(['Nissan 240SX Coupe 1998'], dtype='<U23'),\n",
       "        array(['Plymouth Neon Coupe 1999'], dtype='<U24'),\n",
       "        array(['Porsche Panamera Sedan 2012'], dtype='<U27'),\n",
       "        array(['Ram C/V Cargo Van Minivan 2012'], dtype='<U30'),\n",
       "        array(['Rolls-Royce Phantom Drophead Coupe Convertible 2012'],\n",
       "              dtype='<U51')                                           ,\n",
       "        array(['Rolls-Royce Ghost Sedan 2012'], dtype='<U28'),\n",
       "        array(['Rolls-Royce Phantom Sedan 2012'], dtype='<U30'),\n",
       "        array(['Scion xD Hatchback 2012'], dtype='<U23'),\n",
       "        array(['Spyker C8 Convertible 2009'], dtype='<U26'),\n",
       "        array(['Spyker C8 Coupe 2009'], dtype='<U20'),\n",
       "        array(['Suzuki Aerio Sedan 2007'], dtype='<U23'),\n",
       "        array(['Suzuki Kizashi Sedan 2012'], dtype='<U25'),\n",
       "        array(['Suzuki SX4 Hatchback 2012'], dtype='<U25'),\n",
       "        array(['Suzuki SX4 Sedan 2012'], dtype='<U21'),\n",
       "        array(['Tesla Model S Sedan 2012'], dtype='<U24'),\n",
       "        array(['Toyota Sequoia SUV 2012'], dtype='<U23'),\n",
       "        array(['Toyota Camry Sedan 2012'], dtype='<U23'),\n",
       "        array(['Toyota Corolla Sedan 2012'], dtype='<U25'),\n",
       "        array(['Toyota 4Runner SUV 2012'], dtype='<U23'),\n",
       "        array(['Volkswagen Golf Hatchback 2012'], dtype='<U30'),\n",
       "        array(['Volkswagen Golf Hatchback 1991'], dtype='<U30'),\n",
       "        array(['Volkswagen Beetle Hatchback 2012'], dtype='<U32'),\n",
       "        array(['Volvo C30 Hatchback 2012'], dtype='<U24'),\n",
       "        array(['Volvo 240 Sedan 1993'], dtype='<U20'),\n",
       "        array(['Volvo XC90 SUV 2007'], dtype='<U19'),\n",
       "        array(['smart fortwo Convertible 2012'], dtype='<U29')]],\n",
       "      dtype=object)"
      ]
     },
     "execution_count": 14,
     "metadata": {},
     "output_type": "execute_result"
    }
   ],
   "source": [
    "import scipy.io\n",
    "\n",
    "# Remplacez 'chemin/vers/le_fichier.mat' par le chemin réel de votre fichier .mat\n",
    "mat = scipy.io.loadmat('data/cars_annos.mat')\n",
    "\n",
    "# Afficher les clés de la variable\n",
    "print(mat.keys())\n",
    "\n",
    "# Accéder à une variable spécifique, par exemple 'data'\n",
    "data = mat['class_names']\n",
    "data\n"
   ]
  },
  {
   "cell_type": "code",
   "execution_count": 12,
   "metadata": {},
   "outputs": [],
   "source": [
    "import scipy.io\n",
    "import matplotlib.pyplot as plt\n",
    "import numpy as np\n",
    "\n",
    "# Chargement du fichier .mat\n",
    "mat = scipy.io.loadmat('data/cars_annos.mat')\n",
    "\n",
    "# Extraction des données\n",
    "annotations = mat['annotations']\n",
    "class_names = mat['class_names'][0]  # class_names est souvent stocké dans un format de cellule"
   ]
  },
  {
   "cell_type": "code",
   "execution_count": 13,
   "metadata": {},
   "outputs": [
    {
     "name": "stdout",
     "output_type": "stream",
     "text": [
      "(1, 16185)\n",
      "(array(['car_ims/000001.jpg'], dtype='<U18'), array([[112]], dtype=uint8), array([[7]], dtype=uint8), array([[853]], dtype=uint16), array([[717]], dtype=uint16), array([[1]], dtype=uint8), array([[0]], dtype=uint8))\n"
     ]
    }
   ],
   "source": [
    "print(annotations.shape)\n",
    "print(annotations[0,0])"
   ]
  },
  {
   "cell_type": "code",
   "execution_count": null,
   "metadata": {},
   "outputs": [],
   "source": []
  },
  {
   "cell_type": "code",
   "execution_count": 15,
   "metadata": {},
   "outputs": [
    {
     "ename": "ModuleNotFoundError",
     "evalue": "No module named 'torch'",
     "output_type": "error",
     "traceback": [
      "\u001b[0;31m---------------------------------------------------------------------------\u001b[0m",
      "\u001b[0;31mModuleNotFoundError\u001b[0m                       Traceback (most recent call last)",
      "\u001b[1;32m/home/onyxia/work/6milarit-7/similarite.ipynb Cell 10\u001b[0m line \u001b[0;36m1\n\u001b[0;32m----> <a href='vscode-notebook-cell://user-briac6-713535-0.user.lab.sspcloud.fr/home/onyxia/work/6milarit-7/similarite.ipynb#X13sdnNjb2RlLXJlbW90ZQ%3D%3D?line=0'>1</a>\u001b[0m \u001b[39mimport\u001b[39;00m \u001b[39mtorch\u001b[39;00m\n\u001b[1;32m      <a href='vscode-notebook-cell://user-briac6-713535-0.user.lab.sspcloud.fr/home/onyxia/work/6milarit-7/similarite.ipynb#X13sdnNjb2RlLXJlbW90ZQ%3D%3D?line=1'>2</a>\u001b[0m \u001b[39mimport\u001b[39;00m \u001b[39mtorchvision\u001b[39;00m\n\u001b[1;32m      <a href='vscode-notebook-cell://user-briac6-713535-0.user.lab.sspcloud.fr/home/onyxia/work/6milarit-7/similarite.ipynb#X13sdnNjb2RlLXJlbW90ZQ%3D%3D?line=2'>3</a>\u001b[0m \u001b[39mimport\u001b[39;00m \u001b[39mtorchvision\u001b[39;00m\u001b[39m.\u001b[39;00m\u001b[39mtransforms\u001b[39;00m \u001b[39mas\u001b[39;00m \u001b[39mtransforms\u001b[39;00m\n",
      "\u001b[0;31mModuleNotFoundError\u001b[0m: No module named 'torch'"
     ]
    }
   ],
   "source": [
    "import torch\n",
    "import torchvision\n",
    "import torchvision.transforms as transforms\n",
    "from torchvision.models import resnet18\n",
    "from torch.utils.data import DataLoader, random_split\n",
    "from torchvision.datasets import ImageFolder\n",
    "import torch.nn as nn\n",
    "import torch.optim as optim\n"
   ]
  },
  {
   "cell_type": "code",
   "execution_count": null,
   "metadata": {},
   "outputs": [],
   "source": []
  }
 ],
 "metadata": {
  "kernelspec": {
   "display_name": "base",
   "language": "python",
   "name": "python3"
  },
  "language_info": {
   "codemirror_mode": {
    "name": "ipython",
    "version": 3
   },
   "file_extension": ".py",
   "mimetype": "text/x-python",
   "name": "python",
   "nbconvert_exporter": "python",
   "pygments_lexer": "ipython3",
   "version": "3.11.6"
  }
 },
 "nbformat": 4,
 "nbformat_minor": 2
}
